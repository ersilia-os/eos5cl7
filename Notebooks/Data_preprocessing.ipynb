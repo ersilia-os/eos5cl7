{
  "nbformat": 4,
  "nbformat_minor": 0,
  "metadata": {
    "colab": {
      "provenance": []
    },
    "kernelspec": {
      "name": "python3",
      "display_name": "Python 3"
    },
    "language_info": {
      "name": "python"
    }
  },
  "cells": [
    {
      "cell_type": "code",
      "execution_count": 1,
      "metadata": {
        "id": "ww2gx1VHU4O0"
      },
      "outputs": [],
      "source": [
        "import pandas as pd\n",
        "import numpy as np\n",
        "import seaborn as sns\n",
        "import matplotlib.pyplot as plt"
      ]
    },
    {
      "cell_type": "code",
      "source": [
        "!pip install rdkit"
      ],
      "metadata": {
        "colab": {
          "base_uri": "https://localhost:8080/"
        },
        "id": "eTympHsSVZCg",
        "outputId": "57cb8f61-1b60-4f9f-9438-de0654af654e"
      },
      "execution_count": 2,
      "outputs": [
        {
          "output_type": "stream",
          "name": "stdout",
          "text": [
            "Collecting rdkit\n",
            "  Downloading rdkit-2023.9.4-cp310-cp310-manylinux_2_17_x86_64.manylinux2014_x86_64.whl (34.4 MB)\n",
            "\u001b[2K     \u001b[90m━━━━━━━━━━━━━━━━━━━━━━━━━━━━━━━━━━━━━━━━\u001b[0m \u001b[32m34.4/34.4 MB\u001b[0m \u001b[31m22.9 MB/s\u001b[0m eta \u001b[36m0:00:00\u001b[0m\n",
            "\u001b[?25hRequirement already satisfied: numpy in /usr/local/lib/python3.10/dist-packages (from rdkit) (1.23.5)\n",
            "Requirement already satisfied: Pillow in /usr/local/lib/python3.10/dist-packages (from rdkit) (9.4.0)\n",
            "Installing collected packages: rdkit\n",
            "Successfully installed rdkit-2023.9.4\n"
          ]
        }
      ]
    },
    {
      "cell_type": "code",
      "source": [
        "from rdkit.Chem import PandasTools"
      ],
      "metadata": {
        "id": "3rsidRq3eJpD"
      },
      "execution_count": 41,
      "outputs": []
    },
    {
      "cell_type": "code",
      "source": [
        "File = '/content/11095_2020_2876_MOESM2_ESM.sdf'"
      ],
      "metadata": {
        "id": "mzQe90uheS2I"
      },
      "execution_count": 42,
      "outputs": []
    },
    {
      "cell_type": "code",
      "source": [
        "training_data = PandasTools.LoadSDF(File) #Not all my molecules are parsed. The error I referenced in my issue."
      ],
      "metadata": {
        "id": "Tax-tf1EeXsX",
        "colab": {
          "base_uri": "https://localhost:8080/"
        },
        "outputId": "63e3873f-d0d5-401b-b08f-754765fcde6d"
      },
      "execution_count": 43,
      "outputs": [
        {
          "output_type": "stream",
          "name": "stderr",
          "text": [
            "[09:42:47] Warning: molecule is tagged as 2D, but at least one Z coordinate is not zero. Marking the mol as 3D.\n",
            "[09:42:47] Explicit valence for atom # 7 N, 4, is greater than permitted\n",
            "[09:42:47] ERROR: Could not sanitize molecule ending on line 13064\n",
            "[09:42:47] ERROR: Explicit valence for atom # 7 N, 4, is greater than permitted\n",
            "[09:42:47] Explicit valence for atom # 1 N, 4, is greater than permitted\n",
            "[09:42:47] ERROR: Could not sanitize molecule ending on line 13231\n",
            "[09:42:47] ERROR: Explicit valence for atom # 1 N, 4, is greater than permitted\n",
            "[09:42:47] Explicit valence for atom # 7 N, 4, is greater than permitted\n",
            "[09:42:47] ERROR: Could not sanitize molecule ending on line 13320\n",
            "[09:42:47] ERROR: Explicit valence for atom # 7 N, 4, is greater than permitted\n",
            "[09:42:47] Explicit valence for atom # 7 N, 4, is greater than permitted\n",
            "[09:42:47] ERROR: Could not sanitize molecule ending on line 13419\n",
            "[09:42:47] ERROR: Explicit valence for atom # 7 N, 4, is greater than permitted\n",
            "[09:42:47] Explicit valence for atom # 7 N, 4, is greater than permitted\n",
            "[09:42:47] ERROR: Could not sanitize molecule ending on line 13507\n",
            "[09:42:47] ERROR: Explicit valence for atom # 7 N, 4, is greater than permitted\n",
            "[09:42:47] Explicit valence for atom # 1 N, 4, is greater than permitted\n",
            "[09:42:47] ERROR: Could not sanitize molecule ending on line 13592\n",
            "[09:42:47] ERROR: Explicit valence for atom # 1 N, 4, is greater than permitted\n",
            "[09:42:47] Explicit valence for atom # 8 N, 4, is greater than permitted\n",
            "[09:42:47] ERROR: Could not sanitize molecule ending on line 13678\n",
            "[09:42:47] ERROR: Explicit valence for atom # 8 N, 4, is greater than permitted\n",
            "[09:42:47] Explicit valence for atom # 11 N, 4, is greater than permitted\n",
            "[09:42:47] ERROR: Could not sanitize molecule ending on line 13764\n",
            "[09:42:47] ERROR: Explicit valence for atom # 11 N, 4, is greater than permitted\n",
            "[09:42:47] Explicit valence for atom # 8 N, 4, is greater than permitted\n",
            "[09:42:47] ERROR: Could not sanitize molecule ending on line 13848\n",
            "[09:42:47] ERROR: Explicit valence for atom # 8 N, 4, is greater than permitted\n",
            "[09:42:47] Warning: ambiguous stereochemistry - zero final chiral volume - at atom 20 ignored\n",
            "[09:42:47] Explicit valence for atom # 10 N, 4, is greater than permitted\n",
            "[09:42:47] ERROR: Could not sanitize molecule ending on line 18250\n",
            "[09:42:47] ERROR: Explicit valence for atom # 10 N, 4, is greater than permitted\n",
            "[09:42:47] Explicit valence for atom # 7 N, 4, is greater than permitted\n",
            "[09:42:47] ERROR: Could not sanitize molecule ending on line 21494\n",
            "[09:42:47] ERROR: Explicit valence for atom # 7 N, 4, is greater than permitted\n",
            "[09:42:47] Explicit valence for atom # 7 N, 4, is greater than permitted\n",
            "[09:42:47] ERROR: Could not sanitize molecule ending on line 21574\n",
            "[09:42:47] ERROR: Explicit valence for atom # 7 N, 4, is greater than permitted\n",
            "[09:42:47] Explicit valence for atom # 8 N, 4, is greater than permitted\n",
            "[09:42:47] ERROR: Could not sanitize molecule ending on line 23764\n",
            "[09:42:47] ERROR: Explicit valence for atom # 8 N, 4, is greater than permitted\n",
            "[09:42:47] Explicit valence for atom # 9 N, 4, is greater than permitted\n",
            "[09:42:47] ERROR: Could not sanitize molecule ending on line 23844\n",
            "[09:42:47] ERROR: Explicit valence for atom # 9 N, 4, is greater than permitted\n",
            "[09:42:47] Explicit valence for atom # 18 N, 4, is greater than permitted\n",
            "[09:42:47] ERROR: Could not sanitize molecule ending on line 23962\n",
            "[09:42:47] ERROR: Explicit valence for atom # 18 N, 4, is greater than permitted\n",
            "[09:42:47] Explicit valence for atom # 5 N, 4, is greater than permitted\n",
            "[09:42:47] ERROR: Could not sanitize molecule ending on line 31515\n",
            "[09:42:47] ERROR: Explicit valence for atom # 5 N, 4, is greater than permitted\n",
            "[09:42:47] Explicit valence for atom # 17 N, 4, is greater than permitted\n",
            "[09:42:47] ERROR: Could not sanitize molecule ending on line 32931\n",
            "[09:42:47] ERROR: Explicit valence for atom # 17 N, 4, is greater than permitted\n"
          ]
        }
      ]
    },
    {
      "cell_type": "markdown",
      "source": [
        "### **Dropping irrelevant columns and focusing on the columns that are important**"
      ],
      "metadata": {
        "id": "Bl2xSY3Qfo9i"
      }
    },
    {
      "cell_type": "code",
      "source": [
        "# Assuming 'CDD Number' is the column you want to drop\n",
        "training_data = training_data.drop(columns=['CDD Number'])\n"
      ],
      "metadata": {
        "id": "CRXxo53RFF82"
      },
      "execution_count": 8,
      "outputs": []
    },
    {
      "cell_type": "code",
      "source": [
        "training_data = training_data.drop(columns = ['ALogP'])"
      ],
      "metadata": {
        "id": "2b8zFKcYGItK"
      },
      "execution_count": 9,
      "outputs": []
    },
    {
      "cell_type": "code",
      "source": [
        "training_data = training_data.drop(columns = ['Clean Energy'])"
      ],
      "metadata": {
        "id": "_f0O_kNjG9Si"
      },
      "execution_count": 10,
      "outputs": []
    },
    {
      "cell_type": "code",
      "source": [
        "training_data = training_data.drop(columns = ['Molecule Name'])"
      ],
      "metadata": {
        "id": "6N-ABbihHJ9G"
      },
      "execution_count": 11,
      "outputs": []
    },
    {
      "cell_type": "code",
      "source": [
        "training_data = training_data.drop(columns = ['Collections'])"
      ],
      "metadata": {
        "id": "SWtyXsgjHRYn"
      },
      "execution_count": 12,
      "outputs": []
    },
    {
      "cell_type": "code",
      "source": [
        "training_data = training_data.drop(columns = ['ChEMBL_Data_Neisseria_g: DESCRIPTION_of_Assay_Ng'])"
      ],
      "metadata": {
        "id": "aE9Y-TJQHUMN"
      },
      "execution_count": 13,
      "outputs": []
    },
    {
      "cell_type": "code",
      "source": [
        "training_data = training_data.drop(columns = ['ChEMBL_Data_Neisseria_g: YEAR'])"
      ],
      "metadata": {
        "id": "rJ9Z6_eRHcWw"
      },
      "execution_count": 14,
      "outputs": []
    },
    {
      "cell_type": "code",
      "source": [
        "training_data = training_data.drop(columns = ['ChEMBL_Data_Neisseria_g: MIC_vs_Neisseria_microg_per_mL'])"
      ],
      "metadata": {
        "id": "b_iyn_OAHnMd"
      },
      "execution_count": 15,
      "outputs": []
    },
    {
      "cell_type": "code",
      "source": [
        "training_data = training_data.drop(columns = ['ChEMBL_Data_Neisseria_g: FIRST_PAGE'])"
      ],
      "metadata": {
        "id": "UlJ2iTkZIsQU"
      },
      "execution_count": 16,
      "outputs": []
    },
    {
      "cell_type": "code",
      "source": [
        "training_data = training_data.drop(columns = ['ChEMBL_Data_Neisseria_g: Molecule_Preferred_NAME'])"
      ],
      "metadata": {
        "id": "wpvmXyiAHa3x"
      },
      "execution_count": 17,
      "outputs": []
    },
    {
      "cell_type": "code",
      "source": [
        "training_data = training_data.drop(columns = ['ChEMBL_Data_Neisseria_g: NUM_RO5_VIOLATIONS'])"
      ],
      "metadata": {
        "id": "V38BWrW2KFtm"
      },
      "execution_count": 18,
      "outputs": []
    },
    {
      "cell_type": "code",
      "source": [
        "training_data = training_data.drop(columns = ['ChEMBL_Data_Neisseria_g: Qualifier_for_MIC_Ng'])"
      ],
      "metadata": {
        "id": "zcmpqMJXKF0J"
      },
      "execution_count": 19,
      "outputs": []
    },
    {
      "cell_type": "code",
      "source": [
        "training_data = training_data.drop(columns = ['ChEMBL_Data_Neisseria_g: ASSAY_CHEMBLID'])"
      ],
      "metadata": {
        "id": "GouSXOpKKF2J"
      },
      "execution_count": 20,
      "outputs": []
    },
    {
      "cell_type": "code",
      "source": [
        "training_data = training_data.drop(columns = ['ChEMBL_Data_Neisseria_g: PUBMED_ID'])"
      ],
      "metadata": {
        "id": "pEC5PxLRKMJ3"
      },
      "execution_count": 21,
      "outputs": []
    },
    {
      "cell_type": "code",
      "source": [
        "training_data = training_data.drop(columns = ['ChEMBL_Data_Neisseria_g: JOURNAL'])"
      ],
      "metadata": {
        "id": "p9pFquYSKMn1"
      },
      "execution_count": 22,
      "outputs": []
    },
    {
      "cell_type": "code",
      "source": [
        "training_data = training_data.drop(columns = ['ChEMBL_Data_Neisseria_g: VOLUME'])"
      ],
      "metadata": {
        "id": "luaiXTL7KNBw"
      },
      "execution_count": 23,
      "outputs": []
    },
    {
      "cell_type": "code",
      "source": [
        "training_data = training_data.drop(columns = ['ID'])"
      ],
      "metadata": {
        "id": "eFXpB32wK7V_"
      },
      "execution_count": 24,
      "outputs": []
    },
    {
      "cell_type": "code",
      "source": [
        "training_data = training_data.drop(columns = ['ChEMBL_Data_Neisseria_g: STRAIN_of_Ng'])"
      ],
      "metadata": {
        "id": "9CczGjjnLA2t"
      },
      "execution_count": 25,
      "outputs": []
    },
    {
      "cell_type": "code",
      "source": [
        "training_data"
      ],
      "metadata": {
        "colab": {
          "base_uri": "https://localhost:8080/",
          "height": 424
        },
        "id": "YKu_srANedhB",
        "outputId": "1ac1a3ad-2974-4afb-d7da-a6055434e2f7"
      },
      "execution_count": 26,
      "outputs": [
        {
          "output_type": "execute_result",
          "data": {
            "text/plain": [
              "                                                 IUPAC Active  \\\n",
              "0    7-[(4aS,7aS)-octahydro-1H-pyrrolo[3,4-b]pyridi...      1   \n",
              "1    (6R,7R)-7-[(2Z)-2-(2-amino-1,3-thiazol-4-yl)-2...      1   \n",
              "2    N-{4-[2-(pyridin-3-yl)-1,3-thiazol-4-yl]phenyl...      0   \n",
              "3    N-[2-(2-{[(1S)-5-amino-1-[(1-{[2-(2-{[(1S)-1-(...      0   \n",
              "4    N-[2-(3-{[(1S)-5-amino-1-[(1-{[2-(3-{[(1S)-1-(...      0   \n",
              "..                                                 ...    ...   \n",
              "277  (3R,4S,5S,6R,7R,9R,11R,12R,13S,14R)-6-{[(2S,3R...      1   \n",
              "278  (2R,3S,4R,5R,8R,10R,11R,12S,13S,14R)-11-{[(2S,...      0   \n",
              "279  (1R,3S,5R,8R,10R,11S,12S,13R,14S)-8,12,14-trih...      0   \n",
              "280  1-cyclopropyl-6-fluoro-4-oxo-7-(piperazin-1-yl...      0   \n",
              "281  disodium {5-[(Z)-2-(3,5-diiodo-4-methoxyphenyl...      0   \n",
              "\n",
              "    Molecular_Weight                                             ROMol  \n",
              "0            401.431  <rdkit.Chem.rdchem.Mol object at 0x7c2bea9ce810>  \n",
              "1             453.45  <rdkit.Chem.rdchem.Mol object at 0x7c2bea9ce880>  \n",
              "2            295.359  <rdkit.Chem.rdchem.Mol object at 0x7c2bea9cea40>  \n",
              "3            2388.03  <rdkit.Chem.rdchem.Mol object at 0x7c2bea9cec00>  \n",
              "4            2419.95  <rdkit.Chem.rdchem.Mol object at 0x7c2bea9cedc0>  \n",
              "..               ...                                               ...  \n",
              "277          733.927  <rdkit.Chem.rdchem.Mol object at 0x7c2bea49aab0>  \n",
              "278          748.984  <rdkit.Chem.rdchem.Mol object at 0x7c2bea49ac70>  \n",
              "279           332.35  <rdkit.Chem.rdchem.Mol object at 0x7c2bea49ae30>  \n",
              "280          331.342  <rdkit.Chem.rdchem.Mol object at 0x7c2bea49aff0>  \n",
              "281          586.054  <rdkit.Chem.rdchem.Mol object at 0x7c2bea49b1b0>  \n",
              "\n",
              "[265 rows x 4 columns]"
            ],
            "text/html": [
              "\n",
              "  <div id=\"df-10de79b5-9515-4c61-a9fb-070f2bea3217\" class=\"colab-df-container\">\n",
              "    <div>\n",
              "<style scoped>\n",
              "    .dataframe tbody tr th:only-of-type {\n",
              "        vertical-align: middle;\n",
              "    }\n",
              "\n",
              "    .dataframe tbody tr th {\n",
              "        vertical-align: top;\n",
              "    }\n",
              "\n",
              "    .dataframe thead th {\n",
              "        text-align: right;\n",
              "    }\n",
              "</style>\n",
              "<table border=\"1\" class=\"dataframe\">\n",
              "  <thead>\n",
              "    <tr style=\"text-align: right;\">\n",
              "      <th></th>\n",
              "      <th>IUPAC</th>\n",
              "      <th>Active</th>\n",
              "      <th>Molecular_Weight</th>\n",
              "      <th>ROMol</th>\n",
              "    </tr>\n",
              "  </thead>\n",
              "  <tbody>\n",
              "    <tr>\n",
              "      <th>0</th>\n",
              "      <td>7-[(4aS,7aS)-octahydro-1H-pyrrolo[3,4-b]pyridi...</td>\n",
              "      <td>1</td>\n",
              "      <td>401.431</td>\n",
              "      <td>&lt;rdkit.Chem.rdchem.Mol object at 0x7c2bea9ce810&gt;</td>\n",
              "    </tr>\n",
              "    <tr>\n",
              "      <th>1</th>\n",
              "      <td>(6R,7R)-7-[(2Z)-2-(2-amino-1,3-thiazol-4-yl)-2...</td>\n",
              "      <td>1</td>\n",
              "      <td>453.45</td>\n",
              "      <td>&lt;rdkit.Chem.rdchem.Mol object at 0x7c2bea9ce880&gt;</td>\n",
              "    </tr>\n",
              "    <tr>\n",
              "      <th>2</th>\n",
              "      <td>N-{4-[2-(pyridin-3-yl)-1,3-thiazol-4-yl]phenyl...</td>\n",
              "      <td>0</td>\n",
              "      <td>295.359</td>\n",
              "      <td>&lt;rdkit.Chem.rdchem.Mol object at 0x7c2bea9cea40&gt;</td>\n",
              "    </tr>\n",
              "    <tr>\n",
              "      <th>3</th>\n",
              "      <td>N-[2-(2-{[(1S)-5-amino-1-[(1-{[2-(2-{[(1S)-1-(...</td>\n",
              "      <td>0</td>\n",
              "      <td>2388.03</td>\n",
              "      <td>&lt;rdkit.Chem.rdchem.Mol object at 0x7c2bea9cec00&gt;</td>\n",
              "    </tr>\n",
              "    <tr>\n",
              "      <th>4</th>\n",
              "      <td>N-[2-(3-{[(1S)-5-amino-1-[(1-{[2-(3-{[(1S)-1-(...</td>\n",
              "      <td>0</td>\n",
              "      <td>2419.95</td>\n",
              "      <td>&lt;rdkit.Chem.rdchem.Mol object at 0x7c2bea9cedc0&gt;</td>\n",
              "    </tr>\n",
              "    <tr>\n",
              "      <th>...</th>\n",
              "      <td>...</td>\n",
              "      <td>...</td>\n",
              "      <td>...</td>\n",
              "      <td>...</td>\n",
              "    </tr>\n",
              "    <tr>\n",
              "      <th>277</th>\n",
              "      <td>(3R,4S,5S,6R,7R,9R,11R,12R,13S,14R)-6-{[(2S,3R...</td>\n",
              "      <td>1</td>\n",
              "      <td>733.927</td>\n",
              "      <td>&lt;rdkit.Chem.rdchem.Mol object at 0x7c2bea49aab0&gt;</td>\n",
              "    </tr>\n",
              "    <tr>\n",
              "      <th>278</th>\n",
              "      <td>(2R,3S,4R,5R,8R,10R,11R,12S,13S,14R)-11-{[(2S,...</td>\n",
              "      <td>0</td>\n",
              "      <td>748.984</td>\n",
              "      <td>&lt;rdkit.Chem.rdchem.Mol object at 0x7c2bea49ac70&gt;</td>\n",
              "    </tr>\n",
              "    <tr>\n",
              "      <th>279</th>\n",
              "      <td>(1R,3S,5R,8R,10R,11S,12S,13R,14S)-8,12,14-trih...</td>\n",
              "      <td>0</td>\n",
              "      <td>332.35</td>\n",
              "      <td>&lt;rdkit.Chem.rdchem.Mol object at 0x7c2bea49ae30&gt;</td>\n",
              "    </tr>\n",
              "    <tr>\n",
              "      <th>280</th>\n",
              "      <td>1-cyclopropyl-6-fluoro-4-oxo-7-(piperazin-1-yl...</td>\n",
              "      <td>0</td>\n",
              "      <td>331.342</td>\n",
              "      <td>&lt;rdkit.Chem.rdchem.Mol object at 0x7c2bea49aff0&gt;</td>\n",
              "    </tr>\n",
              "    <tr>\n",
              "      <th>281</th>\n",
              "      <td>disodium {5-[(Z)-2-(3,5-diiodo-4-methoxyphenyl...</td>\n",
              "      <td>0</td>\n",
              "      <td>586.054</td>\n",
              "      <td>&lt;rdkit.Chem.rdchem.Mol object at 0x7c2bea49b1b0&gt;</td>\n",
              "    </tr>\n",
              "  </tbody>\n",
              "</table>\n",
              "<p>265 rows × 4 columns</p>\n",
              "</div>\n",
              "    <div class=\"colab-df-buttons\">\n",
              "\n",
              "  <div class=\"colab-df-container\">\n",
              "    <button class=\"colab-df-convert\" onclick=\"convertToInteractive('df-10de79b5-9515-4c61-a9fb-070f2bea3217')\"\n",
              "            title=\"Convert this dataframe to an interactive table.\"\n",
              "            style=\"display:none;\">\n",
              "\n",
              "  <svg xmlns=\"http://www.w3.org/2000/svg\" height=\"24px\" viewBox=\"0 -960 960 960\">\n",
              "    <path d=\"M120-120v-720h720v720H120Zm60-500h600v-160H180v160Zm220 220h160v-160H400v160Zm0 220h160v-160H400v160ZM180-400h160v-160H180v160Zm440 0h160v-160H620v160ZM180-180h160v-160H180v160Zm440 0h160v-160H620v160Z\"/>\n",
              "  </svg>\n",
              "    </button>\n",
              "\n",
              "  <style>\n",
              "    .colab-df-container {\n",
              "      display:flex;\n",
              "      gap: 12px;\n",
              "    }\n",
              "\n",
              "    .colab-df-convert {\n",
              "      background-color: #E8F0FE;\n",
              "      border: none;\n",
              "      border-radius: 50%;\n",
              "      cursor: pointer;\n",
              "      display: none;\n",
              "      fill: #1967D2;\n",
              "      height: 32px;\n",
              "      padding: 0 0 0 0;\n",
              "      width: 32px;\n",
              "    }\n",
              "\n",
              "    .colab-df-convert:hover {\n",
              "      background-color: #E2EBFA;\n",
              "      box-shadow: 0px 1px 2px rgba(60, 64, 67, 0.3), 0px 1px 3px 1px rgba(60, 64, 67, 0.15);\n",
              "      fill: #174EA6;\n",
              "    }\n",
              "\n",
              "    .colab-df-buttons div {\n",
              "      margin-bottom: 4px;\n",
              "    }\n",
              "\n",
              "    [theme=dark] .colab-df-convert {\n",
              "      background-color: #3B4455;\n",
              "      fill: #D2E3FC;\n",
              "    }\n",
              "\n",
              "    [theme=dark] .colab-df-convert:hover {\n",
              "      background-color: #434B5C;\n",
              "      box-shadow: 0px 1px 3px 1px rgba(0, 0, 0, 0.15);\n",
              "      filter: drop-shadow(0px 1px 2px rgba(0, 0, 0, 0.3));\n",
              "      fill: #FFFFFF;\n",
              "    }\n",
              "  </style>\n",
              "\n",
              "    <script>\n",
              "      const buttonEl =\n",
              "        document.querySelector('#df-10de79b5-9515-4c61-a9fb-070f2bea3217 button.colab-df-convert');\n",
              "      buttonEl.style.display =\n",
              "        google.colab.kernel.accessAllowed ? 'block' : 'none';\n",
              "\n",
              "      async function convertToInteractive(key) {\n",
              "        const element = document.querySelector('#df-10de79b5-9515-4c61-a9fb-070f2bea3217');\n",
              "        const dataTable =\n",
              "          await google.colab.kernel.invokeFunction('convertToInteractive',\n",
              "                                                    [key], {});\n",
              "        if (!dataTable) return;\n",
              "\n",
              "        const docLinkHtml = 'Like what you see? Visit the ' +\n",
              "          '<a target=\"_blank\" href=https://colab.research.google.com/notebooks/data_table.ipynb>data table notebook</a>'\n",
              "          + ' to learn more about interactive tables.';\n",
              "        element.innerHTML = '';\n",
              "        dataTable['output_type'] = 'display_data';\n",
              "        await google.colab.output.renderOutput(dataTable, element);\n",
              "        const docLink = document.createElement('div');\n",
              "        docLink.innerHTML = docLinkHtml;\n",
              "        element.appendChild(docLink);\n",
              "      }\n",
              "    </script>\n",
              "  </div>\n",
              "\n",
              "\n",
              "<div id=\"df-0cf76d3a-48b6-4a2d-863b-111e25b75f9e\">\n",
              "  <button class=\"colab-df-quickchart\" onclick=\"quickchart('df-0cf76d3a-48b6-4a2d-863b-111e25b75f9e')\"\n",
              "            title=\"Suggest charts\"\n",
              "            style=\"display:none;\">\n",
              "\n",
              "<svg xmlns=\"http://www.w3.org/2000/svg\" height=\"24px\"viewBox=\"0 0 24 24\"\n",
              "     width=\"24px\">\n",
              "    <g>\n",
              "        <path d=\"M19 3H5c-1.1 0-2 .9-2 2v14c0 1.1.9 2 2 2h14c1.1 0 2-.9 2-2V5c0-1.1-.9-2-2-2zM9 17H7v-7h2v7zm4 0h-2V7h2v10zm4 0h-2v-4h2v4z\"/>\n",
              "    </g>\n",
              "</svg>\n",
              "  </button>\n",
              "\n",
              "<style>\n",
              "  .colab-df-quickchart {\n",
              "      --bg-color: #E8F0FE;\n",
              "      --fill-color: #1967D2;\n",
              "      --hover-bg-color: #E2EBFA;\n",
              "      --hover-fill-color: #174EA6;\n",
              "      --disabled-fill-color: #AAA;\n",
              "      --disabled-bg-color: #DDD;\n",
              "  }\n",
              "\n",
              "  [theme=dark] .colab-df-quickchart {\n",
              "      --bg-color: #3B4455;\n",
              "      --fill-color: #D2E3FC;\n",
              "      --hover-bg-color: #434B5C;\n",
              "      --hover-fill-color: #FFFFFF;\n",
              "      --disabled-bg-color: #3B4455;\n",
              "      --disabled-fill-color: #666;\n",
              "  }\n",
              "\n",
              "  .colab-df-quickchart {\n",
              "    background-color: var(--bg-color);\n",
              "    border: none;\n",
              "    border-radius: 50%;\n",
              "    cursor: pointer;\n",
              "    display: none;\n",
              "    fill: var(--fill-color);\n",
              "    height: 32px;\n",
              "    padding: 0;\n",
              "    width: 32px;\n",
              "  }\n",
              "\n",
              "  .colab-df-quickchart:hover {\n",
              "    background-color: var(--hover-bg-color);\n",
              "    box-shadow: 0 1px 2px rgba(60, 64, 67, 0.3), 0 1px 3px 1px rgba(60, 64, 67, 0.15);\n",
              "    fill: var(--button-hover-fill-color);\n",
              "  }\n",
              "\n",
              "  .colab-df-quickchart-complete:disabled,\n",
              "  .colab-df-quickchart-complete:disabled:hover {\n",
              "    background-color: var(--disabled-bg-color);\n",
              "    fill: var(--disabled-fill-color);\n",
              "    box-shadow: none;\n",
              "  }\n",
              "\n",
              "  .colab-df-spinner {\n",
              "    border: 2px solid var(--fill-color);\n",
              "    border-color: transparent;\n",
              "    border-bottom-color: var(--fill-color);\n",
              "    animation:\n",
              "      spin 1s steps(1) infinite;\n",
              "  }\n",
              "\n",
              "  @keyframes spin {\n",
              "    0% {\n",
              "      border-color: transparent;\n",
              "      border-bottom-color: var(--fill-color);\n",
              "      border-left-color: var(--fill-color);\n",
              "    }\n",
              "    20% {\n",
              "      border-color: transparent;\n",
              "      border-left-color: var(--fill-color);\n",
              "      border-top-color: var(--fill-color);\n",
              "    }\n",
              "    30% {\n",
              "      border-color: transparent;\n",
              "      border-left-color: var(--fill-color);\n",
              "      border-top-color: var(--fill-color);\n",
              "      border-right-color: var(--fill-color);\n",
              "    }\n",
              "    40% {\n",
              "      border-color: transparent;\n",
              "      border-right-color: var(--fill-color);\n",
              "      border-top-color: var(--fill-color);\n",
              "    }\n",
              "    60% {\n",
              "      border-color: transparent;\n",
              "      border-right-color: var(--fill-color);\n",
              "    }\n",
              "    80% {\n",
              "      border-color: transparent;\n",
              "      border-right-color: var(--fill-color);\n",
              "      border-bottom-color: var(--fill-color);\n",
              "    }\n",
              "    90% {\n",
              "      border-color: transparent;\n",
              "      border-bottom-color: var(--fill-color);\n",
              "    }\n",
              "  }\n",
              "</style>\n",
              "\n",
              "  <script>\n",
              "    async function quickchart(key) {\n",
              "      const quickchartButtonEl =\n",
              "        document.querySelector('#' + key + ' button');\n",
              "      quickchartButtonEl.disabled = true;  // To prevent multiple clicks.\n",
              "      quickchartButtonEl.classList.add('colab-df-spinner');\n",
              "      try {\n",
              "        const charts = await google.colab.kernel.invokeFunction(\n",
              "            'suggestCharts', [key], {});\n",
              "      } catch (error) {\n",
              "        console.error('Error during call to suggestCharts:', error);\n",
              "      }\n",
              "      quickchartButtonEl.classList.remove('colab-df-spinner');\n",
              "      quickchartButtonEl.classList.add('colab-df-quickchart-complete');\n",
              "    }\n",
              "    (() => {\n",
              "      let quickchartButtonEl =\n",
              "        document.querySelector('#df-0cf76d3a-48b6-4a2d-863b-111e25b75f9e button');\n",
              "      quickchartButtonEl.style.display =\n",
              "        google.colab.kernel.accessAllowed ? 'block' : 'none';\n",
              "    })();\n",
              "  </script>\n",
              "</div>\n",
              "    </div>\n",
              "  </div>\n"
            ]
          },
          "metadata": {},
          "execution_count": 26
        }
      ]
    },
    {
      "cell_type": "code",
      "source": [
        "training_data['IUPAC'][279]"
      ],
      "metadata": {
        "colab": {
          "base_uri": "https://localhost:8080/",
          "height": 35
        },
        "id": "lz3OAfrLklaO",
        "outputId": "f3d24827-29e8-4422-dcad-8661aa12ed15"
      },
      "execution_count": 40,
      "outputs": [
        {
          "output_type": "execute_result",
          "data": {
            "text/plain": [
              "'(1R,3S,5R,8R,10R,11S,12S,13R,14S)-8,12,14-trihydroxy-5-methyl-11,13-bis(methylamino)-2,4,9-trioxatricyclo[8.4.0.0³,⁸]tetradecan-7-one'"
            ],
            "application/vnd.google.colaboratory.intrinsic+json": {
              "type": "string"
            }
          },
          "metadata": {},
          "execution_count": 40
        }
      ]
    },
    {
      "cell_type": "code",
      "source": [
        "training_data.to_csv('train.csv', index=False)\n"
      ],
      "metadata": {
        "id": "5c__egEZLeHo"
      },
      "execution_count": 27,
      "outputs": []
    },
    {
      "cell_type": "markdown",
      "source": [
        "### **From the description above, there are currently no SMILES column in our dataset. We would begin by creating a column for SMILES**"
      ],
      "metadata": {
        "id": "eOGb1dOPDQV_"
      }
    },
    {
      "cell_type": "code",
      "source": [
        "!pip install pip install STOUT-pypi"
      ],
      "metadata": {
        "colab": {
          "base_uri": "https://localhost:8080/",
          "height": 1000
        },
        "id": "wkRLnKwLOICe",
        "outputId": "65c9343f-41da-4928-9e43-0a16edf2e4cd"
      },
      "execution_count": 2,
      "outputs": [
        {
          "output_type": "stream",
          "name": "stdout",
          "text": [
            "Requirement already satisfied: pip in /usr/local/lib/python3.10/dist-packages (23.1.2)\n",
            "Requirement already satisfied: install in /usr/local/lib/python3.10/dist-packages (1.3.5)\n",
            "Collecting STOUT-pypi\n",
            "  Downloading STOUT_pypi-2.0.5-py3-none-any.whl (20 kB)\n",
            "Collecting tensorflow==2.10.1 (from STOUT-pypi)\n",
            "  Downloading tensorflow-2.10.1-cp310-cp310-manylinux_2_17_x86_64.manylinux2014_x86_64.whl (578.1 MB)\n",
            "\u001b[2K     \u001b[90m━━━━━━━━━━━━━━━━━━━━━━━━━━━━━━━━━━━━━━━━\u001b[0m \u001b[32m578.1/578.1 MB\u001b[0m \u001b[31m2.4 MB/s\u001b[0m eta \u001b[36m0:00:00\u001b[0m\n",
            "\u001b[?25hCollecting pystow (from STOUT-pypi)\n",
            "  Downloading pystow-0.5.2-py3-none-any.whl (31 kB)\n",
            "Collecting unicodedata2 (from STOUT-pypi)\n",
            "  Downloading unicodedata2-15.1.0-cp310-cp310-manylinux_2_17_x86_64.manylinux2014_x86_64.whl (468 kB)\n",
            "\u001b[2K     \u001b[90m━━━━━━━━━━━━━━━━━━━━━━━━━━━━━━━━━━━━━━━━\u001b[0m \u001b[32m468.0/468.0 kB\u001b[0m \u001b[31m43.2 MB/s\u001b[0m eta \u001b[36m0:00:00\u001b[0m\n",
            "\u001b[?25hCollecting jpype1 (from STOUT-pypi)\n",
            "  Downloading JPype1-1.5.0-cp310-cp310-manylinux_2_17_x86_64.manylinux2014_x86_64.whl (488 kB)\n",
            "\u001b[2K     \u001b[90m━━━━━━━━━━━━━━━━━━━━━━━━━━━━━━━━━━━━━━━━\u001b[0m \u001b[32m488.6/488.6 kB\u001b[0m \u001b[31m46.8 MB/s\u001b[0m eta \u001b[36m0:00:00\u001b[0m\n",
            "\u001b[?25hRequirement already satisfied: absl-py>=1.0.0 in /usr/local/lib/python3.10/dist-packages (from tensorflow==2.10.1->STOUT-pypi) (1.4.0)\n",
            "Requirement already satisfied: astunparse>=1.6.0 in /usr/local/lib/python3.10/dist-packages (from tensorflow==2.10.1->STOUT-pypi) (1.6.3)\n",
            "Requirement already satisfied: flatbuffers>=2.0 in /usr/local/lib/python3.10/dist-packages (from tensorflow==2.10.1->STOUT-pypi) (23.5.26)\n",
            "Collecting gast<=0.4.0,>=0.2.1 (from tensorflow==2.10.1->STOUT-pypi)\n",
            "  Downloading gast-0.4.0-py3-none-any.whl (9.8 kB)\n",
            "Requirement already satisfied: google-pasta>=0.1.1 in /usr/local/lib/python3.10/dist-packages (from tensorflow==2.10.1->STOUT-pypi) (0.2.0)\n",
            "Requirement already satisfied: grpcio<2.0,>=1.24.3 in /usr/local/lib/python3.10/dist-packages (from tensorflow==2.10.1->STOUT-pypi) (1.60.0)\n",
            "Requirement already satisfied: h5py>=2.9.0 in /usr/local/lib/python3.10/dist-packages (from tensorflow==2.10.1->STOUT-pypi) (3.9.0)\n",
            "Collecting keras<2.11,>=2.10.0 (from tensorflow==2.10.1->STOUT-pypi)\n",
            "  Downloading keras-2.10.0-py2.py3-none-any.whl (1.7 MB)\n",
            "\u001b[2K     \u001b[90m━━━━━━━━━━━━━━━━━━━━━━━━━━━━━━━━━━━━━━━━\u001b[0m \u001b[32m1.7/1.7 MB\u001b[0m \u001b[31m74.4 MB/s\u001b[0m eta \u001b[36m0:00:00\u001b[0m\n",
            "\u001b[?25hCollecting keras-preprocessing>=1.1.1 (from tensorflow==2.10.1->STOUT-pypi)\n",
            "  Downloading Keras_Preprocessing-1.1.2-py2.py3-none-any.whl (42 kB)\n",
            "\u001b[2K     \u001b[90m━━━━━━━━━━━━━━━━━━━━━━━━━━━━━━━━━━━━━━━━\u001b[0m \u001b[32m42.6/42.6 kB\u001b[0m \u001b[31m5.7 MB/s\u001b[0m eta \u001b[36m0:00:00\u001b[0m\n",
            "\u001b[?25hRequirement already satisfied: libclang>=13.0.0 in /usr/local/lib/python3.10/dist-packages (from tensorflow==2.10.1->STOUT-pypi) (16.0.6)\n",
            "Requirement already satisfied: numpy>=1.20 in /usr/local/lib/python3.10/dist-packages (from tensorflow==2.10.1->STOUT-pypi) (1.23.5)\n",
            "Requirement already satisfied: opt-einsum>=2.3.2 in /usr/local/lib/python3.10/dist-packages (from tensorflow==2.10.1->STOUT-pypi) (3.3.0)\n",
            "Requirement already satisfied: packaging in /usr/local/lib/python3.10/dist-packages (from tensorflow==2.10.1->STOUT-pypi) (23.2)\n",
            "Collecting protobuf<3.20,>=3.9.2 (from tensorflow==2.10.1->STOUT-pypi)\n",
            "  Downloading protobuf-3.19.6-cp310-cp310-manylinux_2_17_x86_64.manylinux2014_x86_64.whl (1.1 MB)\n",
            "\u001b[2K     \u001b[90m━━━━━━━━━━━━━━━━━━━━━━━━━━━━━━━━━━━━━━━━\u001b[0m \u001b[32m1.1/1.1 MB\u001b[0m \u001b[31m65.9 MB/s\u001b[0m eta \u001b[36m0:00:00\u001b[0m\n",
            "\u001b[?25hRequirement already satisfied: setuptools in /usr/local/lib/python3.10/dist-packages (from tensorflow==2.10.1->STOUT-pypi) (67.7.2)\n",
            "Requirement already satisfied: six>=1.12.0 in /usr/local/lib/python3.10/dist-packages (from tensorflow==2.10.1->STOUT-pypi) (1.16.0)\n",
            "Collecting tensorboard<2.11,>=2.10 (from tensorflow==2.10.1->STOUT-pypi)\n",
            "  Downloading tensorboard-2.10.1-py3-none-any.whl (5.9 MB)\n",
            "\u001b[2K     \u001b[90m━━━━━━━━━━━━━━━━━━━━━━━━━━━━━━━━━━━━━━━━\u001b[0m \u001b[32m5.9/5.9 MB\u001b[0m \u001b[31m88.3 MB/s\u001b[0m eta \u001b[36m0:00:00\u001b[0m\n",
            "\u001b[?25hRequirement already satisfied: tensorflow-io-gcs-filesystem>=0.23.1 in /usr/local/lib/python3.10/dist-packages (from tensorflow==2.10.1->STOUT-pypi) (0.35.0)\n",
            "Collecting tensorflow-estimator<2.11,>=2.10.0 (from tensorflow==2.10.1->STOUT-pypi)\n",
            "  Downloading tensorflow_estimator-2.10.0-py2.py3-none-any.whl (438 kB)\n",
            "\u001b[2K     \u001b[90m━━━━━━━━━━━━━━━━━━━━━━━━━━━━━━━━━━━━━━━━\u001b[0m \u001b[32m438.7/438.7 kB\u001b[0m \u001b[31m39.4 MB/s\u001b[0m eta \u001b[36m0:00:00\u001b[0m\n",
            "\u001b[?25hRequirement already satisfied: termcolor>=1.1.0 in /usr/local/lib/python3.10/dist-packages (from tensorflow==2.10.1->STOUT-pypi) (2.4.0)\n",
            "Requirement already satisfied: typing-extensions>=3.6.6 in /usr/local/lib/python3.10/dist-packages (from tensorflow==2.10.1->STOUT-pypi) (4.5.0)\n",
            "Requirement already satisfied: wrapt>=1.11.0 in /usr/local/lib/python3.10/dist-packages (from tensorflow==2.10.1->STOUT-pypi) (1.14.1)\n",
            "Requirement already satisfied: click in /usr/local/lib/python3.10/dist-packages (from pystow->STOUT-pypi) (8.1.7)\n",
            "Requirement already satisfied: requests in /usr/local/lib/python3.10/dist-packages (from pystow->STOUT-pypi) (2.31.0)\n",
            "Requirement already satisfied: tqdm in /usr/local/lib/python3.10/dist-packages (from pystow->STOUT-pypi) (4.66.1)\n",
            "Requirement already satisfied: wheel<1.0,>=0.23.0 in /usr/local/lib/python3.10/dist-packages (from astunparse>=1.6.0->tensorflow==2.10.1->STOUT-pypi) (0.42.0)\n",
            "Requirement already satisfied: google-auth<3,>=1.6.3 in /usr/local/lib/python3.10/dist-packages (from tensorboard<2.11,>=2.10->tensorflow==2.10.1->STOUT-pypi) (2.17.3)\n",
            "Collecting google-auth-oauthlib<0.5,>=0.4.1 (from tensorboard<2.11,>=2.10->tensorflow==2.10.1->STOUT-pypi)\n",
            "  Downloading google_auth_oauthlib-0.4.6-py2.py3-none-any.whl (18 kB)\n",
            "Requirement already satisfied: markdown>=2.6.8 in /usr/local/lib/python3.10/dist-packages (from tensorboard<2.11,>=2.10->tensorflow==2.10.1->STOUT-pypi) (3.5.1)\n",
            "Collecting tensorboard-data-server<0.7.0,>=0.6.0 (from tensorboard<2.11,>=2.10->tensorflow==2.10.1->STOUT-pypi)\n",
            "  Downloading tensorboard_data_server-0.6.1-py3-none-manylinux2010_x86_64.whl (4.9 MB)\n",
            "\u001b[2K     \u001b[90m━━━━━━━━━━━━━━━━━━━━━━━━━━━━━━━━━━━━━━━━\u001b[0m \u001b[32m4.9/4.9 MB\u001b[0m \u001b[31m94.0 MB/s\u001b[0m eta \u001b[36m0:00:00\u001b[0m\n",
            "\u001b[?25hCollecting tensorboard-plugin-wit>=1.6.0 (from tensorboard<2.11,>=2.10->tensorflow==2.10.1->STOUT-pypi)\n",
            "  Downloading tensorboard_plugin_wit-1.8.1-py3-none-any.whl (781 kB)\n",
            "\u001b[2K     \u001b[90m━━━━━━━━━━━━━━━━━━━━━━━━━━━━━━━━━━━━━━━━\u001b[0m \u001b[32m781.3/781.3 kB\u001b[0m \u001b[31m60.3 MB/s\u001b[0m eta \u001b[36m0:00:00\u001b[0m\n",
            "\u001b[?25hRequirement already satisfied: werkzeug>=1.0.1 in /usr/local/lib/python3.10/dist-packages (from tensorboard<2.11,>=2.10->tensorflow==2.10.1->STOUT-pypi) (3.0.1)\n",
            "Requirement already satisfied: charset-normalizer<4,>=2 in /usr/local/lib/python3.10/dist-packages (from requests->pystow->STOUT-pypi) (3.3.2)\n",
            "Requirement already satisfied: idna<4,>=2.5 in /usr/local/lib/python3.10/dist-packages (from requests->pystow->STOUT-pypi) (3.6)\n",
            "Requirement already satisfied: urllib3<3,>=1.21.1 in /usr/local/lib/python3.10/dist-packages (from requests->pystow->STOUT-pypi) (2.0.7)\n",
            "Requirement already satisfied: certifi>=2017.4.17 in /usr/local/lib/python3.10/dist-packages (from requests->pystow->STOUT-pypi) (2023.11.17)\n",
            "Requirement already satisfied: cachetools<6.0,>=2.0.0 in /usr/local/lib/python3.10/dist-packages (from google-auth<3,>=1.6.3->tensorboard<2.11,>=2.10->tensorflow==2.10.1->STOUT-pypi) (5.3.2)\n",
            "Requirement already satisfied: pyasn1-modules>=0.2.1 in /usr/local/lib/python3.10/dist-packages (from google-auth<3,>=1.6.3->tensorboard<2.11,>=2.10->tensorflow==2.10.1->STOUT-pypi) (0.3.0)\n",
            "Requirement already satisfied: rsa<5,>=3.1.4 in /usr/local/lib/python3.10/dist-packages (from google-auth<3,>=1.6.3->tensorboard<2.11,>=2.10->tensorflow==2.10.1->STOUT-pypi) (4.9)\n",
            "Requirement already satisfied: requests-oauthlib>=0.7.0 in /usr/local/lib/python3.10/dist-packages (from google-auth-oauthlib<0.5,>=0.4.1->tensorboard<2.11,>=2.10->tensorflow==2.10.1->STOUT-pypi) (1.3.1)\n",
            "Requirement already satisfied: MarkupSafe>=2.1.1 in /usr/local/lib/python3.10/dist-packages (from werkzeug>=1.0.1->tensorboard<2.11,>=2.10->tensorflow==2.10.1->STOUT-pypi) (2.1.3)\n",
            "Requirement already satisfied: pyasn1<0.6.0,>=0.4.6 in /usr/local/lib/python3.10/dist-packages (from pyasn1-modules>=0.2.1->google-auth<3,>=1.6.3->tensorboard<2.11,>=2.10->tensorflow==2.10.1->STOUT-pypi) (0.5.1)\n",
            "Requirement already satisfied: oauthlib>=3.0.0 in /usr/local/lib/python3.10/dist-packages (from requests-oauthlib>=0.7.0->google-auth-oauthlib<0.5,>=0.4.1->tensorboard<2.11,>=2.10->tensorflow==2.10.1->STOUT-pypi) (3.2.2)\n",
            "Installing collected packages: unicodedata2, tensorboard-plugin-wit, keras, tensorflow-estimator, tensorboard-data-server, protobuf, keras-preprocessing, jpype1, gast, pystow, google-auth-oauthlib, tensorboard, tensorflow, STOUT-pypi\n",
            "  Attempting uninstall: keras\n",
            "    Found existing installation: keras 2.15.0\n",
            "    Uninstalling keras-2.15.0:\n",
            "      Successfully uninstalled keras-2.15.0\n",
            "  Attempting uninstall: tensorflow-estimator\n",
            "    Found existing installation: tensorflow-estimator 2.15.0\n",
            "    Uninstalling tensorflow-estimator-2.15.0:\n",
            "      Successfully uninstalled tensorflow-estimator-2.15.0\n",
            "  Attempting uninstall: tensorboard-data-server\n",
            "    Found existing installation: tensorboard-data-server 0.7.2\n",
            "    Uninstalling tensorboard-data-server-0.7.2:\n",
            "      Successfully uninstalled tensorboard-data-server-0.7.2\n",
            "  Attempting uninstall: protobuf\n",
            "    Found existing installation: protobuf 3.20.3\n",
            "    Uninstalling protobuf-3.20.3:\n",
            "      Successfully uninstalled protobuf-3.20.3\n",
            "  Attempting uninstall: gast\n",
            "    Found existing installation: gast 0.5.4\n",
            "    Uninstalling gast-0.5.4:\n",
            "      Successfully uninstalled gast-0.5.4\n",
            "  Attempting uninstall: google-auth-oauthlib\n",
            "    Found existing installation: google-auth-oauthlib 1.2.0\n",
            "    Uninstalling google-auth-oauthlib-1.2.0:\n",
            "      Successfully uninstalled google-auth-oauthlib-1.2.0\n",
            "  Attempting uninstall: tensorboard\n",
            "    Found existing installation: tensorboard 2.15.1\n",
            "    Uninstalling tensorboard-2.15.1:\n",
            "      Successfully uninstalled tensorboard-2.15.1\n",
            "  Attempting uninstall: tensorflow\n",
            "    Found existing installation: tensorflow 2.15.0\n",
            "    Uninstalling tensorflow-2.15.0:\n",
            "      Successfully uninstalled tensorflow-2.15.0\n",
            "\u001b[31mERROR: pip's dependency resolver does not currently take into account all the packages that are installed. This behaviour is the source of the following dependency conflicts.\n",
            "pandas-gbq 0.19.2 requires google-auth-oauthlib>=0.7.0, but you have google-auth-oauthlib 0.4.6 which is incompatible.\n",
            "tensorflow-datasets 4.9.4 requires protobuf>=3.20, but you have protobuf 3.19.6 which is incompatible.\n",
            "tensorflow-metadata 1.14.0 requires protobuf<4.21,>=3.20.3, but you have protobuf 3.19.6 which is incompatible.\u001b[0m\u001b[31m\n",
            "\u001b[0mSuccessfully installed STOUT-pypi-2.0.5 gast-0.4.0 google-auth-oauthlib-0.4.6 jpype1-1.5.0 keras-2.10.0 keras-preprocessing-1.1.2 protobuf-3.19.6 pystow-0.5.2 tensorboard-2.10.1 tensorboard-data-server-0.6.1 tensorboard-plugin-wit-1.8.1 tensorflow-2.10.1 tensorflow-estimator-2.10.0 unicodedata2-15.1.0\n"
          ]
        },
        {
          "output_type": "display_data",
          "data": {
            "application/vnd.colab-display-data+json": {
              "pip_warning": {
                "packages": [
                  "google"
                ]
              }
            }
          },
          "metadata": {}
        }
      ]
    },
    {
      "cell_type": "code",
      "source": [
        "df = pd.read_csv(\"/content/train.csv\")"
      ],
      "metadata": {
        "id": "XEdfOVz1hJ56"
      },
      "execution_count": 28,
      "outputs": []
    },
    {
      "cell_type": "code",
      "source": [
        "from STOUT import translate_reverse\n",
        "\n",
        "# Assuming 'IUPAC' column exists in training_data\n",
        "df['SMILES'] = df['IUPAC'].apply(lambda x: translate_reverse(x))"
      ],
      "metadata": {
        "id": "Q-UrAQNdKy_x"
      },
      "execution_count": null,
      "outputs": []
    },
    {
      "cell_type": "markdown",
      "source": [
        "If we leave it as it is, due to some IUPAC Names, not converted properly we would encounter an error. A keyError : (As a result of \"{\" instead of \"[\"). So, I had to handle the error and allow my notebook to run. Those inputs was caught by"
      ],
      "metadata": {
        "id": "u87NJGybj7iS"
      }
    },
    {
      "cell_type": "code",
      "source": [
        "from STOUT import translate_reverse\n",
        "\n",
        "def translate_reverse_safe(iupac_name):\n",
        "    try:\n",
        "        smiles = translate_reverse(iupac_name)\n",
        "        return smiles\n",
        "    except KeyError:\n",
        "        return None\n",
        "\n",
        "# Assuming 'IUPAC' column exists in training_data\n",
        "df['SMILES'] = df['IUPAC'].apply(translate_reverse_safe)"
      ],
      "metadata": {
        "id": "_4WJacHLnr3a"
      },
      "execution_count": null,
      "outputs": []
    },
    {
      "cell_type": "code",
      "source": [
        "df.isnull().sum()"
      ],
      "metadata": {
        "colab": {
          "base_uri": "https://localhost:8080/"
        },
        "id": "uMvob6r_gypo",
        "outputId": "9885a12c-e91a-4c71-e1c1-55e608463eb0"
      },
      "execution_count": 44,
      "outputs": [
        {
          "output_type": "execute_result",
          "data": {
            "text/plain": [
              "IUPAC               0\n",
              "Active              0\n",
              "Molecular_Weight    0\n",
              "ROMol               0\n",
              "dtype: int64"
            ]
          },
          "metadata": {},
          "execution_count": 44
        }
      ]
    },
    {
      "cell_type": "code",
      "source": [
        "df.to_csv('Final.csv', index=False)"
      ],
      "metadata": {
        "id": "V9JiYyGcnzA_"
      },
      "execution_count": null,
      "outputs": []
    }
  ]
}