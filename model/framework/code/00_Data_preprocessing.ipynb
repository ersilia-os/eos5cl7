{
  "cells": [
    {
      "cell_type": "code",
      "execution_count": 7,
      "metadata": {
        "id": "ww2gx1VHU4O0"
      },
      "outputs": [],
      "source": [
        "import pandas as pd\n",
        "import os\n",
        "from rdkit import Chem\n",
        "from rdkit.Chem import PandasTools\n",
        "\n",
        "DATAPATH = \"../data\""
      ]
    },
    {
      "cell_type": "code",
      "execution_count": 8,
      "metadata": {
        "id": "mzQe90uheS2I",
        "outputId": "dff9b4a2-9a92-4d19-9bbe-4ef6347ea98b"
      },
      "outputs": [
        {
          "name": "stderr",
          "output_type": "stream",
          "text": [
            "[12:55:42] Explicit valence for atom # 7 N, 4, is greater than permitted\n",
            "[12:55:42] ERROR: Could not sanitize molecule ending on line 13064\n",
            "[12:55:42] ERROR: Explicit valence for atom # 7 N, 4, is greater than permitted\n",
            "[12:55:42] Explicit valence for atom # 1 N, 4, is greater than permitted\n",
            "[12:55:42] ERROR: Could not sanitize molecule ending on line 13231\n",
            "[12:55:42] ERROR: Explicit valence for atom # 1 N, 4, is greater than permitted\n",
            "[12:55:42] Explicit valence for atom # 7 N, 4, is greater than permitted\n",
            "[12:55:42] ERROR: Could not sanitize molecule ending on line 13320\n",
            "[12:55:42] ERROR: Explicit valence for atom # 7 N, 4, is greater than permitted\n",
            "[12:55:42] Explicit valence for atom # 7 N, 4, is greater than permitted\n",
            "[12:55:42] ERROR: Could not sanitize molecule ending on line 13419\n",
            "[12:55:42] ERROR: Explicit valence for atom # 7 N, 4, is greater than permitted\n",
            "[12:55:42] Explicit valence for atom # 7 N, 4, is greater than permitted\n",
            "[12:55:42] ERROR: Could not sanitize molecule ending on line 13507\n",
            "[12:55:42] ERROR: Explicit valence for atom # 7 N, 4, is greater than permitted\n",
            "[12:55:42] Explicit valence for atom # 1 N, 4, is greater than permitted\n",
            "[12:55:42] ERROR: Could not sanitize molecule ending on line 13592\n",
            "[12:55:42] ERROR: Explicit valence for atom # 1 N, 4, is greater than permitted\n",
            "[12:55:42] Explicit valence for atom # 8 N, 4, is greater than permitted\n",
            "[12:55:42] ERROR: Could not sanitize molecule ending on line 13678\n",
            "[12:55:42] ERROR: Explicit valence for atom # 8 N, 4, is greater than permitted\n",
            "[12:55:42] Explicit valence for atom # 11 N, 4, is greater than permitted\n",
            "[12:55:42] ERROR: Could not sanitize molecule ending on line 13764\n",
            "[12:55:42] ERROR: Explicit valence for atom # 11 N, 4, is greater than permitted\n",
            "[12:55:42] Explicit valence for atom # 8 N, 4, is greater than permitted\n",
            "[12:55:42] ERROR: Could not sanitize molecule ending on line 13848\n",
            "[12:55:42] ERROR: Explicit valence for atom # 8 N, 4, is greater than permitted\n",
            "[12:55:42] Explicit valence for atom # 10 N, 4, is greater than permitted\n",
            "[12:55:42] ERROR: Could not sanitize molecule ending on line 18250\n",
            "[12:55:42] ERROR: Explicit valence for atom # 10 N, 4, is greater than permitted\n",
            "[12:55:42] Explicit valence for atom # 7 N, 4, is greater than permitted\n",
            "[12:55:42] ERROR: Could not sanitize molecule ending on line 21494\n",
            "[12:55:42] ERROR: Explicit valence for atom # 7 N, 4, is greater than permitted\n",
            "[12:55:42] Explicit valence for atom # 7 N, 4, is greater than permitted\n",
            "[12:55:42] ERROR: Could not sanitize molecule ending on line 21574\n",
            "[12:55:42] ERROR: Explicit valence for atom # 7 N, 4, is greater than permitted\n",
            "[12:55:42] Explicit valence for atom # 8 N, 4, is greater than permitted\n",
            "[12:55:42] ERROR: Could not sanitize molecule ending on line 23764\n",
            "[12:55:42] ERROR: Explicit valence for atom # 8 N, 4, is greater than permitted\n",
            "[12:55:42] Explicit valence for atom # 9 N, 4, is greater than permitted\n",
            "[12:55:42] ERROR: Could not sanitize molecule ending on line 23844\n",
            "[12:55:42] ERROR: Explicit valence for atom # 9 N, 4, is greater than permitted\n",
            "[12:55:42] Explicit valence for atom # 18 N, 4, is greater than permitted\n",
            "[12:55:42] ERROR: Could not sanitize molecule ending on line 23962\n",
            "[12:55:42] ERROR: Explicit valence for atom # 18 N, 4, is greater than permitted\n",
            "[12:55:42] Explicit valence for atom # 5 N, 4, is greater than permitted\n",
            "[12:55:42] ERROR: Could not sanitize molecule ending on line 31515\n",
            "[12:55:42] ERROR: Explicit valence for atom # 5 N, 4, is greater than permitted\n",
            "[12:55:42] Explicit valence for atom # 17 N, 4, is greater than permitted\n",
            "[12:55:42] ERROR: Could not sanitize molecule ending on line 32931\n",
            "[12:55:42] ERROR: Explicit valence for atom # 17 N, 4, is greater than permitted\n"
          ]
        }
      ],
      "source": [
        "#Reading our datafile\n",
        "file = os.path.join(DATAPATH,\"pub_data\", '11095_2020_2876_MOESM2_ESM.sdf')\n",
        "training_data = PandasTools.LoadSDF(file, smilesName='SMILES')"
      ]
    },
    {
      "cell_type": "code",
      "execution_count": null,
      "metadata": {
        "id": "HqFIQ1YDflsz",
        "outputId": "aad70905-1140-4102-d58f-b1c3d029f832"
      },
      "outputs": [
        {
          "data": {
            "text/plain": [
              "0"
            ]
          },
          "execution_count": 6,
          "metadata": {},
          "output_type": "execute_result"
        }
      ],
      "source": [
        "idx = []\n",
        "for i,smi in enumerate(training_data[\"SMILES\"]):\n",
        "    mol=Chem.MolFromSmiles(smi)\n",
        "    if mol is None:\n",
        "        idx = [i]\n",
        "len(idx)"
      ]
    },
    {
      "cell_type": "code",
      "execution_count": 9,
      "metadata": {},
      "outputs": [],
      "source": [
        "#Data showing all columns\n",
        "training_data.to_csv(os.path.join(DATAPATH, \"processed_data\", 'Final_unprocessed.csv'), index=False)"
      ]
    },
    {
      "cell_type": "code",
      "execution_count": 6,
      "metadata": {
        "id": "CRXxo53RFF82"
      },
      "outputs": [
        {
          "name": "stdout",
          "output_type": "stream",
          "text": [
            "265\n",
            "265\n"
          ]
        },
        {
          "name": "stderr",
          "output_type": "stream",
          "text": [
            "/var/folders/rx/fqf_ssrj14q0h5dmx8vgdvpm0000gn/T/ipykernel_68959/3938168924.py:7: SettingWithCopyWarning: \n",
            "A value is trying to be set on a copy of a slice from a DataFrame.\n",
            "Try using .loc[row_indexer,col_indexer] = value instead\n",
            "\n",
            "See the caveats in the documentation: https://pandas.pydata.org/pandas-docs/stable/user_guide/indexing.html#returning-a-view-versus-a-copy\n",
            "  training_data['Molecule'] = mols\n",
            "/var/folders/rx/fqf_ssrj14q0h5dmx8vgdvpm0000gn/T/ipykernel_68959/3938168924.py:9: SettingWithCopyWarning: \n",
            "A value is trying to be set on a copy of a slice from a DataFrame\n",
            "\n",
            "See the caveats in the documentation: https://pandas.pydata.org/pandas-docs/stable/user_guide/indexing.html#returning-a-view-versus-a-copy\n",
            "  training_data.dropna(subset=['Molecule'], inplace=True)\n",
            "/var/folders/rx/fqf_ssrj14q0h5dmx8vgdvpm0000gn/T/ipykernel_68959/3938168924.py:11: SettingWithCopyWarning: \n",
            "A value is trying to be set on a copy of a slice from a DataFrame\n",
            "\n",
            "See the caveats in the documentation: https://pandas.pydata.org/pandas-docs/stable/user_guide/indexing.html#returning-a-view-versus-a-copy\n",
            "  training_data.drop(columns=['Molecule'], inplace=True)\n"
          ]
        }
      ],
      "source": [
        "#Retrieving only the data columns we need\n",
        "training_data = training_data[['SMILES', 'Active']]\n",
        "mols = [Chem.MolFromSmiles(x) for x in training_data['SMILES']]\n",
        "valid_mols = [mol for mol in mols if mol is not None]\n",
        "training_data['Molecule'] = mols\n",
        "print(len(training_data))\n",
        "training_data.dropna(subset=['Molecule'], inplace=True)\n",
        "print(len(training_data))\n",
        "training_data.drop(columns=['Molecule'], inplace=True)\n",
        "training_data.to_csv(os.path.join(DATAPATH, \"Data.csv\"), index=False)\n",
        "\n",
        "training_data.to_csv(os.path.join(DATAPATH, \"processed_data\", 'training_set.csv'), index=False)"
      ]
    }
  ],
  "metadata": {
    "colab": {
      "provenance": []
    },
    "kernelspec": {
      "display_name": "Python 3",
      "name": "python3"
    },
    "language_info": {
      "codemirror_mode": {
        "name": "ipython",
        "version": 3
      },
      "file_extension": ".py",
      "mimetype": "text/x-python",
      "name": "python",
      "nbconvert_exporter": "python",
      "pygments_lexer": "ipython3",
      "version": "3.10.9"
    }
  },
  "nbformat": 4,
  "nbformat_minor": 0
}
