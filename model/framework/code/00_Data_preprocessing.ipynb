{
  "cells": [
    {
      "cell_type": "code",
      "execution_count": 3,
      "metadata": {
        "id": "ww2gx1VHU4O0",
        "colab": {
          "base_uri": "https://localhost:8080/"
        },
        "outputId": "6f967dfa-f5e7-4963-9318-5fac7e93bee4"
      },
      "outputs": [
        {
          "output_type": "stream",
          "name": "stdout",
          "text": [
            "Collecting rdkit\n",
            "  Downloading rdkit-2023.9.4-cp310-cp310-manylinux_2_17_x86_64.manylinux2014_x86_64.whl (34.4 MB)\n",
            "\u001b[2K     \u001b[90m━━━━━━━━━━━━━━━━━━━━━━━━━━━━━━━━━━━━━━━━\u001b[0m \u001b[32m34.4/34.4 MB\u001b[0m \u001b[31m31.9 MB/s\u001b[0m eta \u001b[36m0:00:00\u001b[0m\n",
            "\u001b[?25hRequirement already satisfied: numpy in /usr/local/lib/python3.10/dist-packages (from rdkit) (1.23.5)\n",
            "Requirement already satisfied: Pillow in /usr/local/lib/python3.10/dist-packages (from rdkit) (9.4.0)\n",
            "Installing collected packages: rdkit\n",
            "Successfully installed rdkit-2023.9.4\n"
          ]
        }
      ],
      "source": [
        "import pandas as pd\n",
        "import numpy as np\n",
        "import seaborn as sns\n",
        "import matplotlib.pyplot as plt\n",
        "!pip install rdkit"
      ]
    },
    {
      "cell_type": "code",
      "execution_count": 4,
      "metadata": {
        "id": "3rsidRq3eJpD"
      },
      "outputs": [],
      "source": [
        "from rdkit.Chem import PandasTools"
      ]
    },
    {
      "cell_type": "code",
      "execution_count": 5,
      "metadata": {
        "id": "mzQe90uheS2I"
      },
      "outputs": [],
      "source": [
        "File = '/content/11095_2020_2876_MOESM2_ESM.sdf'"
      ]
    },
    {
      "cell_type": "code",
      "execution_count": 11,
      "metadata": {
        "colab": {
          "base_uri": "https://localhost:8080/"
        },
        "id": "Tax-tf1EeXsX",
        "outputId": "e6fcb073-6f5e-40f5-816c-9f2a3c322291"
      },
      "outputs": [
        {
          "output_type": "stream",
          "name": "stderr",
          "text": [
            "[20:50:01] Warning: molecule is tagged as 2D, but at least one Z coordinate is not zero. Marking the mol as 3D.\n",
            "[20:50:01] Explicit valence for atom # 7 N, 4, is greater than permitted\n",
            "[20:50:01] ERROR: Could not sanitize molecule ending on line 13064\n",
            "[20:50:01] ERROR: Explicit valence for atom # 7 N, 4, is greater than permitted\n",
            "[20:50:01] Explicit valence for atom # 1 N, 4, is greater than permitted\n",
            "[20:50:01] ERROR: Could not sanitize molecule ending on line 13231\n",
            "[20:50:01] ERROR: Explicit valence for atom # 1 N, 4, is greater than permitted\n",
            "[20:50:01] Explicit valence for atom # 7 N, 4, is greater than permitted\n",
            "[20:50:01] ERROR: Could not sanitize molecule ending on line 13320\n",
            "[20:50:01] ERROR: Explicit valence for atom # 7 N, 4, is greater than permitted\n",
            "[20:50:01] Explicit valence for atom # 7 N, 4, is greater than permitted\n",
            "[20:50:01] ERROR: Could not sanitize molecule ending on line 13419\n",
            "[20:50:01] ERROR: Explicit valence for atom # 7 N, 4, is greater than permitted\n",
            "[20:50:01] Explicit valence for atom # 7 N, 4, is greater than permitted\n",
            "[20:50:01] ERROR: Could not sanitize molecule ending on line 13507\n",
            "[20:50:01] ERROR: Explicit valence for atom # 7 N, 4, is greater than permitted\n",
            "[20:50:01] Explicit valence for atom # 1 N, 4, is greater than permitted\n",
            "[20:50:01] ERROR: Could not sanitize molecule ending on line 13592\n",
            "[20:50:01] ERROR: Explicit valence for atom # 1 N, 4, is greater than permitted\n",
            "[20:50:01] Explicit valence for atom # 8 N, 4, is greater than permitted\n",
            "[20:50:01] ERROR: Could not sanitize molecule ending on line 13678\n",
            "[20:50:01] ERROR: Explicit valence for atom # 8 N, 4, is greater than permitted\n",
            "[20:50:01] Explicit valence for atom # 11 N, 4, is greater than permitted\n",
            "[20:50:01] ERROR: Could not sanitize molecule ending on line 13764\n",
            "[20:50:01] ERROR: Explicit valence for atom # 11 N, 4, is greater than permitted\n",
            "[20:50:01] Explicit valence for atom # 8 N, 4, is greater than permitted\n",
            "[20:50:01] ERROR: Could not sanitize molecule ending on line 13848\n",
            "[20:50:01] ERROR: Explicit valence for atom # 8 N, 4, is greater than permitted\n",
            "[20:50:01] Warning: ambiguous stereochemistry - zero final chiral volume - at atom 20 ignored\n",
            "[20:50:01] Explicit valence for atom # 10 N, 4, is greater than permitted\n",
            "[20:50:01] ERROR: Could not sanitize molecule ending on line 18250\n",
            "[20:50:01] ERROR: Explicit valence for atom # 10 N, 4, is greater than permitted\n",
            "[20:50:01] Explicit valence for atom # 7 N, 4, is greater than permitted\n",
            "[20:50:01] ERROR: Could not sanitize molecule ending on line 21494\n",
            "[20:50:01] ERROR: Explicit valence for atom # 7 N, 4, is greater than permitted\n",
            "[20:50:01] Explicit valence for atom # 7 N, 4, is greater than permitted\n",
            "[20:50:01] ERROR: Could not sanitize molecule ending on line 21574\n",
            "[20:50:01] ERROR: Explicit valence for atom # 7 N, 4, is greater than permitted\n",
            "[20:50:01] Explicit valence for atom # 8 N, 4, is greater than permitted\n",
            "[20:50:01] ERROR: Could not sanitize molecule ending on line 23764\n",
            "[20:50:01] ERROR: Explicit valence for atom # 8 N, 4, is greater than permitted\n",
            "[20:50:01] Explicit valence for atom # 9 N, 4, is greater than permitted\n",
            "[20:50:01] ERROR: Could not sanitize molecule ending on line 23844\n",
            "[20:50:01] ERROR: Explicit valence for atom # 9 N, 4, is greater than permitted\n",
            "[20:50:01] Explicit valence for atom # 18 N, 4, is greater than permitted\n",
            "[20:50:01] ERROR: Could not sanitize molecule ending on line 23962\n",
            "[20:50:01] ERROR: Explicit valence for atom # 18 N, 4, is greater than permitted\n",
            "[20:50:01] Explicit valence for atom # 5 N, 4, is greater than permitted\n",
            "[20:50:01] ERROR: Could not sanitize molecule ending on line 31515\n",
            "[20:50:01] ERROR: Explicit valence for atom # 5 N, 4, is greater than permitted\n",
            "[20:50:01] Explicit valence for atom # 17 N, 4, is greater than permitted\n",
            "[20:50:01] ERROR: Could not sanitize molecule ending on line 32931\n",
            "[20:50:01] ERROR: Explicit valence for atom # 17 N, 4, is greater than permitted\n"
          ]
        }
      ],
      "source": [
        "training_data = PandasTools.LoadSDF(File, smilesName='SMILES')"
      ]
    },
    {
      "cell_type": "code",
      "source": [
        "training_data.to_csv('Final_unprocessed.csv', index=False)"
      ],
      "metadata": {
        "id": "K1aRLrYsT36p"
      },
      "execution_count": null,
      "outputs": []
    },
    {
      "cell_type": "code",
      "execution_count": 12,
      "metadata": {
        "id": "CRXxo53RFF82"
      },
      "outputs": [],
      "source": [
        "training_data = training_data[['IUPAC','SMILES', 'Active']]\n"
      ]
    },
    {
      "cell_type": "code",
      "execution_count": null,
      "metadata": {
        "id": "5c__egEZLeHo"
      },
      "outputs": [],
      "source": [
        "# Assuming 'df' is your DataFrame and 'output_file.csv' is the desired CSV file name\n",
        "training_data.to_csv('Final_processed.csv', index=False)\n"
      ]
    }
  ],
  "metadata": {
    "colab": {
      "provenance": []
    },
    "kernelspec": {
      "display_name": "Python 3",
      "name": "python3"
    },
    "language_info": {
      "name": "python"
    }
  },
  "nbformat": 4,
  "nbformat_minor": 0
}